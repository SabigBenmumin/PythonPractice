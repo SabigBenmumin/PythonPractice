{
 "cells": [
  {
   "cell_type": "code",
   "execution_count": null,
   "metadata": {},
   "outputs": [],
   "source": [
    "#A4\n",
    "\n",
    "b = 0\n",
    "lst = []\n",
    "\n",
    "a = int(input('n = '))\n",
    "\n",
    "for x in range(1,1001):\n",
    "    if x % a == 0:\n",
    "        b += 1\n",
    "    if x % a == 0:\n",
    "        lst.append(x)\n",
    "c = min(lst)\n",
    "d = max(lst)\n",
    "\n",
    "print('count = ',b)\n",
    "print('minimum =  ', c)\n",
    "print('maximum = ',d)\n",
    "print(lst)"
   ]
  }
 ],
 "metadata": {
  "kernelspec": {
   "display_name": "Python 3.9.7 64-bit",
   "language": "python",
   "name": "python3"
  },
  "language_info": {
   "codemirror_mode": {
    "name": "ipython",
    "version": 3
   },
   "file_extension": ".py",
   "mimetype": "text/x-python",
   "name": "python",
   "nbconvert_exporter": "python",
   "pygments_lexer": "ipython3",
   "version": "3.9.7"
  },
  "orig_nbformat": 4,
  "vscode": {
   "interpreter": {
    "hash": "ac0e2c98eda597d95e4359d8d6ad9039b5966cbf205cd8f484d6a477498637f8"
   }
  }
 },
 "nbformat": 4,
 "nbformat_minor": 2
}
